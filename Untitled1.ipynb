{
  "nbformat": 4,
  "nbformat_minor": 0,
  "metadata": {
    "colab": {
      "provenance": [],
      "authorship_tag": "ABX9TyOVREiGuK7LkPpGGLb2Fxwy",
      "include_colab_link": true
    },
    "kernelspec": {
      "name": "python3",
      "display_name": "Python 3"
    },
    "language_info": {
      "name": "python"
    }
  },
  "cells": [
    {
      "cell_type": "markdown",
      "metadata": {
        "id": "view-in-github",
        "colab_type": "text"
      },
      "source": [
        "<a href=\"https://colab.research.google.com/github/Romulomrs/MortesPalestina/blob/main/Untitled1.ipynb\" target=\"_parent\"><img src=\"https://colab.research.google.com/assets/colab-badge.svg\" alt=\"Open In Colab\"/></a>"
      ]
    },
    {
      "cell_type": "code",
      "execution_count": 11,
      "metadata": {
        "id": "eEw_csI4ynzF"
      },
      "outputs": [],
      "source": [
        "import pandas as pd\n",
        "import numpy as np"
      ]
    },
    {
      "cell_type": "code",
      "source": [
        "df = pd.read_json('dados.json')"
      ],
      "metadata": {
        "id": "k4no9MD4yzGh"
      },
      "execution_count": 12,
      "outputs": []
    },
    {
      "cell_type": "code",
      "source": [
        "pd.set_option('display.width', 1000)  # Aumenta o limite horizontal\n",
        "pd.set_option('display.max_columns', None)  # Permite mostrar todas as colunas"
      ],
      "metadata": {
        "id": "KR08K5dE0a7p"
      },
      "execution_count": 13,
      "outputs": []
    },
    {
      "cell_type": "code",
      "source": [
        "df.fillna(0, inplace = True)\n",
        "newdf = df.drop(['ext_massacres_cum','ext_killed','ext_killed_cum',\n",
        "                 'ext_killed_children_cum','ext_killed_women_cum','ext_injured','ext_injured_cum','ext_civdef_killed_cum',\n",
        "                 'ext_med_killed_cum','ext_press_killed_cum',],axis = 1)\n"
      ],
      "metadata": {
        "id": "QguL7maXnSQT"
      },
      "execution_count": 17,
      "outputs": []
    },
    {
      "cell_type": "code",
      "source": [
        "print(newdf)"
      ],
      "metadata": {
        "colab": {
          "base_uri": "https://localhost:8080/"
        },
        "id": "4ejrTCCqzNTq",
        "outputId": "9385a300-8099-47b6-e2de-dd826a54ad81"
      },
      "execution_count": 21,
      "outputs": [
        {
          "output_type": "stream",
          "name": "stdout",
          "text": [
            "    report_date report_source  report_period  killed  killed_cum  injured_cum  med_killed_cum  press_killed_cum  killed_children_cum  killed_women_cum  injured  massacres_cum  civdef_killed_cum  killed_recovered  killed_truce_new  killed_succumbed  killed_committee\n",
            "0    2023-10-07        mohtel             24   232.0       232.0       1610.0             6.0               1.0                  0.0               0.0      0.0            0.0                0.0               0.0               0.0               0.0               0.0\n",
            "1    2023-10-08        mohtel             24   138.0       370.0       1788.0             0.0               1.0                 78.0              41.0      0.0            0.0                0.0               0.0               0.0               0.0               0.0\n",
            "2    2023-10-09        mohtel             24   190.0       560.0       2271.0             6.0               3.0                 91.0              61.0      0.0            0.0                0.0               0.0               0.0               0.0               0.0\n",
            "3    2023-10-10        mohtel             24   340.0       900.0       4000.0             0.0               7.0                260.0             230.0      0.0            0.0                0.0               0.0               0.0               0.0               0.0\n",
            "4    2023-10-11        gmotel             24   200.0      1100.0       5184.0            10.0               0.0                  0.0               0.0   1029.0            0.0                0.0               0.0               0.0               0.0               0.0\n",
            "..          ...           ...            ...     ...         ...          ...             ...               ...                  ...               ...      ...            ...                ...               ...               ...               ...               ...\n",
            "621  2025-06-19        mohtel             24    69.0     55706.0     130101.0             0.0               0.0                  0.0               0.0    221.0            0.0                0.0               2.0              67.0               0.0               0.0\n",
            "622  2025-06-20        mohtel              0     0.0     55706.0     130101.0             0.0               0.0                  0.0               0.0      0.0            0.0                0.0               0.0               0.0               0.0               0.0\n",
            "623  2025-06-21        mohtel             48   202.0     55908.0     131138.0             0.0               0.0                  0.0               0.0   1037.0            0.0                0.0               4.0             198.0               0.0               0.0\n",
            "624  2025-06-22        mohtel             24    51.0     55959.0     131242.0             0.0               0.0                  0.0               0.0    104.0            0.0                0.0               3.0              48.0               0.0               0.0\n",
            "625  2025-06-23        mohtel             24    39.0     55998.0     131559.0             0.0               0.0                  0.0               0.0    317.0            0.0                0.0               1.0              38.0               0.0               0.0\n",
            "\n",
            "[626 rows x 17 columns]\n"
          ]
        }
      ]
    },
    {
      "cell_type": "code",
      "source": [
        "print(df.columns)"
      ],
      "metadata": {
        "colab": {
          "base_uri": "https://localhost:8080/"
        },
        "id": "4R2OZ34Jrt7B",
        "outputId": "ae53cdf9-731b-4a7f-a3ba-8525a3701393"
      },
      "execution_count": 8,
      "outputs": [
        {
          "output_type": "stream",
          "name": "stdout",
          "text": [
            "Index(['report_date', 'report_source', 'report_period', 'ext_massacres_cum', 'killed', 'killed_cum', 'ext_killed', 'ext_killed_cum', 'ext_killed_children_cum', 'ext_killed_women_cum', 'injured_cum', 'ext_injured', 'ext_injured_cum', 'ext_civdef_killed_cum', 'med_killed_cum', 'ext_med_killed_cum', 'press_killed_cum', 'ext_press_killed_cum', 'killed_children_cum', 'killed_women_cum', 'injured', 'massacres_cum', 'civdef_killed_cum', 'killed_recovered', 'killed_truce_new', 'killed_succumbed', 'killed_committee'], dtype='object')\n"
          ]
        }
      ]
    }
  ]
}