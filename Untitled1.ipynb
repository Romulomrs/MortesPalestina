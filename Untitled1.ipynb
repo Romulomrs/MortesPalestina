{
  "nbformat": 4,
  "nbformat_minor": 0,
  "metadata": {
    "colab": {
      "provenance": [],
      "authorship_tag": "ABX9TyPGQuteD2aHnkfnaDKe3NJk",
      "include_colab_link": true
    },
    "kernelspec": {
      "name": "python3",
      "display_name": "Python 3"
    },
    "language_info": {
      "name": "python"
    }
  },
  "cells": [
    {
      "cell_type": "markdown",
      "metadata": {
        "id": "view-in-github",
        "colab_type": "text"
      },
      "source": [
        "<a href=\"https://colab.research.google.com/github/Romulomrs/MortesPalestina/blob/main/Untitled1.ipynb\" target=\"_parent\"><img src=\"https://colab.research.google.com/assets/colab-badge.svg\" alt=\"Open In Colab\"/></a>"
      ]
    },
    {
      "cell_type": "code",
      "execution_count": null,
      "metadata": {
        "id": "eEw_csI4ynzF"
      },
      "outputs": [],
      "source": [
        "import pandas as pd\n",
        "import numpy as np"
      ]
    },
    {
      "cell_type": "code",
      "source": [
        "df = pd.read_json('dados.json')"
      ],
      "metadata": {
        "id": "k4no9MD4yzGh"
      },
      "execution_count": null,
      "outputs": []
    },
    {
      "cell_type": "code",
      "source": [
        "pd.set_option('display.width', 1000)  # Aumenta o limite horizontal\n",
        "pd.set_option('display.max_columns', None)  # Permite mostrar todas as colunas"
      ],
      "metadata": {
        "id": "KR08K5dE0a7p"
      },
      "execution_count": null,
      "outputs": []
    },
    {
      "cell_type": "code",
      "source": [
        "df.fillna(0, inplace = True)"
      ],
      "metadata": {
        "id": "QguL7maXnSQT"
      },
      "execution_count": null,
      "outputs": []
    },
    {
      "cell_type": "code",
      "source": [
        "print(df.head(10))"
      ],
      "metadata": {
        "colab": {
          "base_uri": "https://localhost:8080/"
        },
        "id": "4ejrTCCqzNTq",
        "outputId": "f1e4e053-64e3-4e63-9805-dff9d5842d7a"
      },
      "execution_count": null,
      "outputs": [
        {
          "output_type": "stream",
          "name": "stdout",
          "text": [
            "  report_date report_source  report_period  ext_massacres_cum  killed  killed_cum  ext_killed  ext_killed_cum  ext_killed_children_cum  ext_killed_women_cum  injured_cum  ext_injured  ext_injured_cum  ext_civdef_killed_cum  med_killed_cum  ext_med_killed_cum  press_killed_cum  ext_press_killed_cum  killed_children_cum  killed_women_cum  injured  massacres_cum  civdef_killed_cum  killed_recovered  killed_truce_new  killed_succumbed  killed_committee\n",
            "0  2023-10-07        mohtel             24                  0   232.0       232.0         232             232                        0                     0       1610.0         1610             1610                      0             6.0                   6               1.0                     1                  0.0               0.0      0.0            0.0                0.0               0.0               0.0               0.0               0.0\n",
            "1  2023-10-08        mohtel             24                  0   138.0       370.0         138             370                       78                    41       1788.0          178             1788                      0             0.0                   6               1.0                     1                 78.0              41.0      0.0            0.0                0.0               0.0               0.0               0.0               0.0\n",
            "2  2023-10-09        mohtel             24                  8   190.0       560.0         190             560                       91                    61       2271.0          483             2271                      0             6.0                   6               3.0                     3                 91.0              61.0      0.0            0.0                0.0               0.0               0.0               0.0               0.0\n",
            "3  2023-10-10        mohtel             24                  8   340.0       900.0         340             900                      260                   230       4000.0         1729             4000                      0             0.0                   6               7.0                     7                260.0             230.0      0.0            0.0                0.0               0.0               0.0               0.0               0.0\n",
            "4  2023-10-11        gmotel             24                 23   200.0      1100.0         200            1100                      398                   230       5184.0         1184             5184                      0            10.0                  10               0.0                     7                  0.0               0.0   1029.0            0.0                0.0               0.0               0.0               0.0               0.0\n",
            "5  2023-10-12        mohtel             24                 23   317.0      1417.0         317            1417                      500                   276       5763.0          579             5763                      0            11.0                  11               0.0                     7                500.0             276.0    579.0            0.0                0.0               0.0               0.0               0.0               0.0\n",
            "6  2023-10-13       missing             24                 23   483.0      1900.0         483            1900                      500                   392          0.0         1475             7238                      0            11.0                  11               0.0                     7                  0.0               0.0      0.0            0.0                0.0               0.0               0.0               0.0               0.0\n",
            "7  2023-10-14        gmotel             24                 23   328.0      2228.0         328            2228                      600                   600       8714.0         1476             8714                      0            11.0                  11               0.0                     7                  0.0               0.0      0.0            0.0                0.0               0.0               0.0               0.0               0.0\n",
            "8  2023-10-15        gmotel             24                 23   442.0      2670.0         442            2670                      700                   735       9200.0          486             9200                      0             0.0                  11               0.0                     7                  0.0               0.0   1000.0            0.0                0.0               0.0               0.0               0.0               0.0\n",
            "9  2023-10-16        gmotel             24                371   138.0      2808.0         138            2808                      853                   936      10850.0         1650            10850                      7            37.0                  37               0.0                     7                853.0             936.0    562.0          371.0                7.0               0.0               0.0               0.0               0.0\n"
          ]
        }
      ]
    },
    {
      "cell_type": "code",
      "source": [
        "print(df['massacres_cum'])"
      ],
      "metadata": {
        "colab": {
          "base_uri": "https://localhost:8080/"
        },
        "id": "4R2OZ34Jrt7B",
        "outputId": "0789dbde-0931-4cc3-c1b8-03090659d2f9"
      },
      "execution_count": null,
      "outputs": [
        {
          "output_type": "stream",
          "name": "stdout",
          "text": [
            "0      0.0\n",
            "1      0.0\n",
            "2      0.0\n",
            "3      0.0\n",
            "4      0.0\n",
            "      ... \n",
            "621    0.0\n",
            "622    0.0\n",
            "623    0.0\n",
            "624    0.0\n",
            "625    0.0\n",
            "Name: massacres_cum, Length: 626, dtype: float64\n"
          ]
        }
      ]
    }
  ]
}