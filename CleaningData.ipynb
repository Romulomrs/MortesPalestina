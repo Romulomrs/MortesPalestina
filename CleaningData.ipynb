{
  "nbformat": 4,
  "nbformat_minor": 0,
  "metadata": {
    "colab": {
      "provenance": [],
      "authorship_tag": "ABX9TyNDdH/8MtQFMdgRSLNzacsD",
      "include_colab_link": true
    },
    "kernelspec": {
      "name": "python3",
      "display_name": "Python 3"
    },
    "language_info": {
      "name": "python"
    }
  },
  "cells": [
    {
      "cell_type": "markdown",
      "metadata": {
        "id": "view-in-github",
        "colab_type": "text"
      },
      "source": [
        "<a href=\"https://colab.research.google.com/github/Romulomrs/MortesPalestina/blob/main/CleaningData.ipynb\" target=\"_parent\"><img src=\"https://colab.research.google.com/assets/colab-badge.svg\" alt=\"Open In Colab\"/></a>"
      ]
    },
    {
      "cell_type": "code",
      "execution_count": 22,
      "metadata": {
        "id": "eEw_csI4ynzF"
      },
      "outputs": [],
      "source": [
        "import pandas as pd\n",
        "import numpy as np"
      ]
    },
    {
      "cell_type": "code",
      "source": [
        "df = pd.read_json('dados.json')"
      ],
      "metadata": {
        "id": "k4no9MD4yzGh"
      },
      "execution_count": 23,
      "outputs": []
    },
    {
      "cell_type": "code",
      "source": [
        "pd.set_option('display.width', 1000)  # Aumenta o limite horizontal\n",
        "pd.set_option('display.max_columns', None)  # Permite mostrar todas as colunas"
      ],
      "metadata": {
        "id": "KR08K5dE0a7p"
      },
      "execution_count": 24,
      "outputs": []
    },
    {
      "cell_type": "code",
      "source": [
        "# Preenche valores ausentes somente nas colunas numéricas\n",
        "num_cols = df.select_dtypes(include=[np.number]).columns\n",
        "df[num_cols] = df[num_cols].fillna(0)"
      ],
      "metadata": {
        "id": "-78dq0Vqj8N_"
      },
      "execution_count": 25,
      "outputs": []
    },
    {
      "cell_type": "code",
      "source": [
        "df.fillna(0, inplace = True)\n",
        "df = df.drop(['ext_massacres_cum','ext_killed','ext_killed_cum',\n",
        "                 'ext_killed_children_cum','ext_killed_women_cum','ext_injured','ext_injured_cum','ext_civdef_killed_cum',\n",
        "                 'ext_med_killed_cum','ext_press_killed_cum',],axis = 1)\n"
      ],
      "metadata": {
        "id": "QguL7maXnSQT"
      },
      "execution_count": 26,
      "outputs": []
    },
    {
      "cell_type": "code",
      "source": [
        "# Converte a data para datetime\n",
        "df['report_date'] = pd.to_datetime(df['report_date'])"
      ],
      "metadata": {
        "id": "57lyDIBaj26G"
      },
      "execution_count": 27,
      "outputs": []
    },
    {
      "cell_type": "code",
      "source": [
        "# Cria coluna: dias desde o início da guerra\n",
        "inicio_guerra = pd.to_datetime('2023-10-06')\n",
        "df['dias_desde_inicio'] = (df['report_date'] - inicio_guerra).dt.days"
      ],
      "metadata": {
        "id": "u5uiNv9-nKB5"
      },
      "execution_count": 28,
      "outputs": []
    },
    {
      "cell_type": "code",
      "source": [
        "colunas = [\n",
        "    'killed_cum',\n",
        "    'injured_cum',\n",
        "    'med_killed_cum',\n",
        "    'press_killed_cum',\n",
        "    'killed_children_cum',\n",
        "    'killed_women_cum'\n",
        "]\n",
        "\n",
        "# Substitui 0 por NA e faz forward fill em cada coluna\n",
        "df[colunas] = df[colunas].replace(0, pd.NA).ffill()"
      ],
      "metadata": {
        "id": "YYajd-BTnSVP",
        "outputId": "82d3e23a-cbde-484b-a6f7-7779625a88eb",
        "colab": {
          "base_uri": "https://localhost:8080/"
        }
      },
      "execution_count": 29,
      "outputs": [
        {
          "output_type": "stream",
          "name": "stderr",
          "text": [
            "/tmp/ipython-input-29-2473132812.py:11: FutureWarning: Downcasting object dtype arrays on .fillna, .ffill, .bfill is deprecated and will change in a future version. Call result.infer_objects(copy=False) instead. To opt-in to the future behavior, set `pd.set_option('future.no_silent_downcasting', True)`\n",
            "  df[colunas] = df[colunas].replace(0, pd.NA).ffill()\n"
          ]
        }
      ]
    },
    {
      "cell_type": "code",
      "source": [
        "# Filtra apenas os dados a partir de 7 de outubro de 2023\n",
        "df = df[df['report_date'] >= inicio_guerra]\n",
        "df['ano_mes'] = df['report_date'].dt.to_period('M')"
      ],
      "metadata": {
        "id": "AFyxo_hDnVUv"
      },
      "execution_count": 30,
      "outputs": []
    },
    {
      "cell_type": "code",
      "source": [
        "print(df)"
      ],
      "metadata": {
        "id": "wQ9YxfBsnf-I",
        "outputId": "76e965a2-885c-4eee-a09d-e82c5ca5f8ed",
        "colab": {
          "base_uri": "https://localhost:8080/"
        }
      },
      "execution_count": 31,
      "outputs": [
        {
          "output_type": "stream",
          "name": "stdout",
          "text": [
            "    report_date report_source  report_period  killed  killed_cum  injured_cum  med_killed_cum  press_killed_cum killed_children_cum killed_women_cum  injured  massacres_cum  civdef_killed_cum  killed_recovered  killed_truce_new  killed_succumbed  killed_committee  dias_desde_inicio  ano_mes\n",
            "576  2025-05-05        mohtel             24    32.0     52567.0     118610.0          1402.0             212.0             18000.0          12400.0    119.0            0.0                0.0               9.0              23.0               0.0               0.0                577  2025-05\n",
            "577  2025-05-06        mohtel             24    48.0     52615.0     118752.0          1402.0             212.0             18000.0          12400.0    142.0            0.0                0.0               0.0              48.0               0.0               0.0                578  2025-05\n",
            "578  2025-05-07        mohtel             24    38.0     52653.0     118897.0          1402.0             214.0             18000.0          12400.0    145.0            0.0                0.0               4.0              34.0               0.0               0.0                579  2025-05\n",
            "579  2025-05-08        mohtel             24   107.0     52760.0     119264.0          1411.0             214.0             18000.0          12400.0    367.0            0.0              113.0               1.0             106.0               0.0               0.0                580  2025-05\n",
            "580  2025-05-09        mohtel             24    27.0     52787.0     119349.0          1411.0             214.0             18000.0          12400.0     85.0            0.0                0.0               1.0              26.0               0.0               0.0                581  2025-05\n",
            "581  2025-05-10        mohtel             24    23.0     52810.0     119473.0          1411.0             214.0             18000.0          12400.0    124.0            0.0                0.0               0.0              23.0               0.0               0.0                582  2025-05\n",
            "582  2025-05-11        mohtel             24    19.0     52829.0     119554.0          1411.0             214.0             18000.0          12400.0     81.0            0.0                0.0               1.0              18.0               0.0               0.0                583  2025-05\n",
            "583  2025-05-12        mohtel             24    33.0     52862.0     119648.0          1411.0             214.0             18000.0          12400.0     94.0            0.0                0.0               4.0              29.0               0.0               0.0                584  2025-05\n",
            "584  2025-05-13        mohtel             24    46.0     52908.0     119721.0          1411.0             215.0             18000.0          12400.0     73.0            0.0                0.0              15.0              31.0               0.0               0.0                585  2025-05\n",
            "585  2025-05-14        mohtel             24    20.0     52928.0     119846.0          1411.0             215.0             18000.0          12400.0    125.0            0.0                0.0               1.0              19.0               0.0               0.0                586  2025-05\n",
            "586  2025-05-15        mohtel             24    82.0     53010.0     119998.0          1411.0             217.0             18000.0          12400.0    152.0            0.0                0.0               0.0              82.0               0.0               0.0                587  2025-05\n",
            "587  2025-05-16        mohtel             24   109.0     53119.0     120214.0          1411.0             217.0             18000.0          12400.0    216.0            0.0                0.0               1.0             108.0               0.0               0.0                588  2025-05\n",
            "588  2025-05-17        mohtel             24   153.0     53272.0     120673.0          1411.0             217.0             18000.0          12400.0    459.0            0.0                0.0               7.0             146.0               0.0               0.0                589  2025-05\n",
            "589  2025-05-18        mohtel             24    67.0     53339.0     121034.0          1411.0             217.0             18000.0          12400.0    361.0            0.0                0.0               5.0              62.0               0.0               0.0                590  2025-05\n",
            "590  2025-05-19        mohtel             24   136.0     53475.0     121398.0          1411.0             219.0             18000.0          12400.0    364.0            0.0                0.0              11.0             125.0               0.0               0.0                591  2025-05\n",
            "591  2025-05-20        mohtel             24    98.0     53573.0     121688.0          1411.0             219.0             18000.0          12400.0    290.0            0.0                0.0              11.0              87.0               0.0               0.0                592  2025-05\n",
            "592  2025-05-21        mohtel             24    82.0     53655.0     121950.0          1411.0             219.0             18000.0          12400.0    262.0            0.0                0.0               0.0              82.0               0.0               0.0                593  2025-05\n",
            "593  2025-05-22        mohtel             24   107.0     53762.0     122197.0          1411.0             219.0             18000.0          12400.0    247.0            0.0                0.0               3.0             104.0               0.0               0.0                594  2025-05\n",
            "594  2025-05-23        mohtel             24    60.0     53822.0     122382.0          1411.0             219.0             18000.0          12400.0    185.0            0.0                0.0               0.0              60.0               0.0               0.0                595  2025-05\n",
            "595  2025-05-24        mohtel             24    79.0     53901.0     122593.0          1411.0             219.0             18000.0          12400.0    211.0            0.0                0.0               5.0              74.0               0.0               0.0                596  2025-05\n",
            "596  2025-05-25        mohtel             24    38.0     53939.0     122797.0          1411.0             220.0             18000.0          12400.0    204.0            0.0                0.0               0.0              38.0               0.0               0.0                597  2025-05\n",
            "597  2025-05-26        mohtel             24    38.0     53977.0     122966.0          1411.0             220.0             18000.0          12400.0    169.0            0.0                0.0               1.0              37.0               0.0               0.0                598  2025-05\n",
            "598  2025-05-27        mohtel             24    79.0     54056.0     123129.0          1411.0             220.0             18000.0          12400.0    163.0            0.0                0.0               0.0              79.0               0.0               0.0                599  2025-05\n",
            "599  2025-05-28        mohtel             24    28.0     54084.0     123308.0          1580.0             221.0             18000.0          12400.0    179.0            0.0              115.0               5.0              23.0               0.0               0.0                600  2025-05\n",
            "600  2025-05-29        mohtel             24   165.0     54249.0     123492.0          1580.0             221.0             18000.0          12400.0    184.0            0.0                0.0               5.0              62.0               0.0              98.0                601  2025-05\n",
            "601  2025-05-30        mohtel             24    72.0     54321.0     123770.0          1580.0             221.0             18000.0          12400.0    278.0            0.0                0.0               0.0              72.0               0.0               0.0                602  2025-05\n",
            "602  2025-05-31        mohtel             24    60.0     54381.0     124054.0          1580.0             221.0             18000.0          12400.0    284.0            0.0                0.0               1.0              59.0               0.0               0.0                603  2025-05\n",
            "603  2025-06-01        mohtel             24    37.0     54418.0     124190.0          1580.0             221.0             18000.0          12400.0    136.0            0.0                0.0               5.0              32.0               0.0               0.0                604  2025-06\n",
            "604  2025-06-02        mohtel             24    52.0     54470.0     124693.0          1580.0             221.0             18000.0          12400.0    503.0            0.0                0.0               1.0              51.0               0.0               0.0                605  2025-06\n",
            "605  2025-06-03        mohtel             24    40.0     54510.0     124901.0          1580.0             221.0             18000.0          12400.0    208.0            0.0                0.0               1.0              39.0               0.0               0.0                606  2025-06\n",
            "606  2025-06-04        mohtel             24    97.0     54607.0     125341.0          1580.0             221.0             18000.0          12400.0    440.0            0.0                0.0               2.0              95.0               0.0               0.0                607  2025-06\n",
            "607  2025-06-05        mohtel             24    70.0     54677.0     125530.0          1580.0             225.0             18000.0          12400.0    189.0            0.0                0.0               3.0              67.0               0.0               0.0                608  2025-06\n",
            "608  2025-06-06        mohtel              0     0.0     54677.0     125530.0          1580.0             226.0             18000.0          12400.0      0.0            0.0                0.0               0.0               0.0               0.0               0.0                609  2025-06\n",
            "609  2025-06-07        mohtel             48    95.0     54772.0     125834.0          1580.0             226.0             18000.0          12400.0    304.0            0.0                0.0               0.0              95.0               0.0               0.0                610  2025-06\n",
            "610  2025-06-08        mohtel             24   108.0     54880.0     126227.0          1580.0             226.0             18000.0          12400.0    393.0            0.0                0.0               2.0             106.0               0.0               0.0                611  2025-06\n",
            "611  2025-06-09        mohtel             24    47.0     54927.0     126615.0          1580.0             226.0             18000.0          12400.0    388.0            0.0                0.0               1.0              46.0               0.0               0.0                612  2025-06\n",
            "612  2025-06-10        mohtel             24    54.0     54981.0     126920.0          1583.0             227.0             18000.0          12400.0    305.0            0.0                0.0               2.0              52.0               0.0               0.0                613  2025-06\n",
            "613  2025-06-11        mohtel             24   123.0     55104.0     127394.0          1583.0             227.0             18000.0          12400.0    474.0            0.0                0.0               3.0             120.0               0.0               0.0                614  2025-06\n",
            "614  2025-06-12        mohtel             24   103.0     55207.0     127821.0          1583.0             227.0             18000.0          12400.0    427.0            0.0                0.0               0.0             103.0               0.0               0.0                615  2025-06\n",
            "615  2025-06-13        mohtel              0     0.0     55207.0     127821.0          1583.0             227.0             18000.0          12400.0      0.0            0.0                0.0               0.0               0.0               0.0               0.0                616  2025-06\n",
            "616  2025-06-14        mohtel             48    90.0     55297.0     128426.0          1583.0             227.0             18000.0          12400.0    605.0            0.0                0.0               0.0              90.0               0.0               0.0                617  2025-06\n",
            "617  2025-06-15        mohtel             24    65.0     55362.0     128741.0          1583.0             227.0             18000.0          12400.0    315.0            0.0                0.0               8.0              57.0               0.0               0.0                618  2025-06\n",
            "618  2025-06-16        mohtel             24    70.0     55432.0     128923.0          1583.0             227.0             18000.0          12400.0    182.0            0.0                0.0               2.0              68.0               0.0               0.0                619  2025-06\n",
            "619  2025-06-17        mohtel             24    61.0     55493.0     129320.0          1583.0             227.0             18000.0          12400.0    397.0            0.0                0.0               6.0              55.0               0.0               0.0                620  2025-06\n",
            "620  2025-06-18        mohtel             24   144.0     55637.0     129880.0          1583.0             227.0             18000.0          12400.0    560.0            0.0                0.0               4.0             140.0               0.0               0.0                621  2025-06\n",
            "621  2025-06-19        mohtel             24    69.0     55706.0     130101.0          1583.0             227.0             18000.0          12400.0    221.0            0.0                0.0               2.0              67.0               0.0               0.0                622  2025-06\n",
            "622  2025-06-20        mohtel              0     0.0     55706.0     130101.0          1583.0             227.0             18000.0          12400.0      0.0            0.0                0.0               0.0               0.0               0.0               0.0                623  2025-06\n",
            "623  2025-06-21        mohtel             48   202.0     55908.0     131138.0          1583.0             227.0             18000.0          12400.0   1037.0            0.0                0.0               4.0             198.0               0.0               0.0                624  2025-06\n",
            "624  2025-06-22        mohtel             24    51.0     55959.0     131242.0          1583.0             227.0             18000.0          12400.0    104.0            0.0                0.0               3.0              48.0               0.0               0.0                625  2025-06\n",
            "625  2025-06-23        mohtel             24    39.0     55998.0     131559.0          1583.0             227.0             18000.0          12400.0    317.0            0.0                0.0               1.0              38.0               0.0               0.0                626  2025-06\n"
          ]
        }
      ]
    }
  ]
}
