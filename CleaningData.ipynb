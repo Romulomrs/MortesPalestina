{
  "nbformat": 4,
  "nbformat_minor": 0,
  "metadata": {
    "colab": {
      "provenance": [],
      "include_colab_link": true
    },
    "kernelspec": {
      "name": "python3",
      "display_name": "Python 3"
    },
    "language_info": {
      "name": "python"
    }
  },
  "cells": [
    {
      "cell_type": "markdown",
      "metadata": {
        "id": "view-in-github",
        "colab_type": "text"
      },
      "source": [
        "<a href=\"https://colab.research.google.com/github/Romulomrs/MortesPalestina/blob/main/CleaningData.ipynb\" target=\"_parent\"><img src=\"https://colab.research.google.com/assets/colab-badge.svg\" alt=\"Open In Colab\"/></a>"
      ]
    },
    {
      "cell_type": "code",
      "execution_count": 53,
      "metadata": {
        "id": "eEw_csI4ynzF"
      },
      "outputs": [],
      "source": [
        "import pandas as pd\n",
        "import numpy as np"
      ]
    },
    {
      "cell_type": "code",
      "source": [
        "df = pd.read_json('dados.json')"
      ],
      "metadata": {
        "id": "k4no9MD4yzGh"
      },
      "execution_count": 54,
      "outputs": []
    },
    {
      "cell_type": "code",
      "source": [
        "pd.set_option('display.width', 1000)  # Aumenta o limite horizontal\n",
        "pd.set_option('display.max_columns', None)  # Permite mostrar todas as colunas"
      ],
      "metadata": {
        "id": "KR08K5dE0a7p"
      },
      "execution_count": 55,
      "outputs": []
    },
    {
      "cell_type": "code",
      "source": [
        "# Preenche valores ausentes somente nas colunas numéricas\n",
        "num_cols = df.select_dtypes(include=[np.number]).columns\n",
        "df[num_cols] = df[num_cols].fillna(0)"
      ],
      "metadata": {
        "id": "-78dq0Vqj8N_"
      },
      "execution_count": 56,
      "outputs": []
    },
    {
      "cell_type": "code",
      "source": [
        "df.fillna(0, inplace = True)\n",
        "df = df.drop(['ext_massacres_cum','ext_killed','ext_killed_cum',\n",
        "                 'ext_killed_children_cum','ext_killed_women_cum','ext_injured','ext_injured_cum','ext_civdef_killed_cum',\n",
        "                 'ext_med_killed_cum','ext_press_killed_cum',],axis = 1)\n"
      ],
      "metadata": {
        "id": "QguL7maXnSQT"
      },
      "execution_count": 57,
      "outputs": []
    },
    {
      "cell_type": "code",
      "source": [
        "# Converte a data para datetime\n",
        "df['report_date'] = pd.to_datetime(df['report_date'])"
      ],
      "metadata": {
        "id": "57lyDIBaj26G"
      },
      "execution_count": 58,
      "outputs": []
    },
    {
      "cell_type": "code",
      "source": [
        "# Cria coluna: dias desde o início da guerra\n",
        "inicio_guerra = pd.to_datetime('2023-10-06')\n",
        "df['dias_desde_inicio'] = (df['report_date'] - inicio_guerra).dt.days"
      ],
      "metadata": {
        "id": "u5uiNv9-nKB5"
      },
      "execution_count": 59,
      "outputs": []
    },
    {
      "cell_type": "code",
      "source": [
        "colunas = [\n",
        "    'killed_cum',\n",
        "    'injured_cum',\n",
        "    'med_killed_cum',\n",
        "    'press_killed_cum',\n",
        "    'killed_children_cum',\n",
        "    'killed_women_cum',\n",
        "    'civdef_killed_cum'\n",
        "\n",
        "]\n",
        "\n",
        "# Substitui 0 por NA e faz forward fill em cada coluna\n",
        "df[colunas] = df[colunas].replace(0, pd.NA).ffill()"
      ],
      "metadata": {
        "id": "YYajd-BTnSVP",
        "colab": {
          "base_uri": "https://localhost:8080/"
        },
        "outputId": "3f3a2bfa-e5c5-4e12-8b08-17a5f7d02915"
      },
      "execution_count": 60,
      "outputs": [
        {
          "output_type": "stream",
          "name": "stderr",
          "text": [
            "/tmp/ipython-input-60-527717218.py:13: FutureWarning: Downcasting object dtype arrays on .fillna, .ffill, .bfill is deprecated and will change in a future version. Call result.infer_objects(copy=False) instead. To opt-in to the future behavior, set `pd.set_option('future.no_silent_downcasting', True)`\n",
            "  df[colunas] = df[colunas].replace(0, pd.NA).ffill()\n"
          ]
        }
      ]
    },
    {
      "cell_type": "code",
      "source": [
        "colunas_categorias = [\n",
        "    'Killed_cum',\n",
        "    'killed_women_cum',\n",
        "    'med_killed_cum',\n",
        "    'press_killed_cum',\n",
        "    'killed_children_cum',\n",
        "    'civdef_killed_cum',\n",
        "    'injured_cum',\n",
        "]"
      ],
      "metadata": {
        "id": "erTaMwwaXQbL"
      },
      "execution_count": 61,
      "outputs": []
    },
    {
      "cell_type": "code",
      "source": [
        "# Filtra apenas os dados a partir de 7 de outubro de 2023\n",
        "df = df[df['report_date'] >= inicio_guerra]\n"
      ],
      "metadata": {
        "id": "AFyxo_hDnVUv"
      },
      "execution_count": 62,
      "outputs": []
    },
    {
      "cell_type": "code",
      "source": [
        "df_renomeado = df.rename(columns={\n",
        "    'killed_cum': 'Geral',\n",
        "    'killed_women_cum': 'Mulheres',\n",
        "    'med_killed_cum': 'Médicos',\n",
        "    'press_killed_cum': 'Imprensa',\n",
        "    'killed_children_cum': 'Crianças',\n",
        "    'civdef_killed_cum': 'DefesaCivil'\n",
        "})"
      ],
      "metadata": {
        "id": "uYJYfwtAk6o7"
      },
      "execution_count": 63,
      "outputs": []
    },
    {
      "cell_type": "code",
      "source": [
        "colunas_a_derreter = ['Geral', 'Mulheres', 'Médicos', 'Imprensa', 'Crianças', 'DefesaCivil']\n",
        "id_vars = [col for col in df_renomeado.columns if col not in colunas_a_derreter]\n",
        "\n",
        "# Agora sim, faz o melt mantendo tudo\n",
        "df_long = pd.melt(\n",
        "    df_renomeado,\n",
        "    id_vars=id_vars,\n",
        "    value_vars=colunas_a_derreter,\n",
        "    var_name='Categoria',\n",
        "    value_name='Mortos'\n",
        ")"
      ],
      "metadata": {
        "id": "sL9hv1l8lDax"
      },
      "execution_count": 64,
      "outputs": []
    },
    {
      "cell_type": "code",
      "source": [
        "# Chaves para agrupamento - ajustadas para seu dataset\n",
        "grupo_chaves = ['report_date', 'report_source', 'report_period', 'dias_desde_inicio']\n",
        "\n",
        "# Separa a categoria Geral\n",
        "df_geral = df_long[df_long['Categoria'] == 'Geral'].copy()\n",
        "\n",
        "# Outras categorias\n",
        "df_outras = df_long[df_long['Categoria'] != 'Geral'].copy()\n",
        "\n",
        "# Soma as outras categorias por chave\n",
        "soma_outras = df_outras.groupby(grupo_chaves)['Mortos'].sum().reset_index()\n",
        "soma_outras = soma_outras.rename(columns={'Mortos': 'Soma_Outras'})\n",
        "\n",
        "# Junta com Geral para calcular Homens\n",
        "df_homens = pd.merge(df_geral, soma_outras, on=grupo_chaves)\n",
        "\n",
        "# Calcula homens = Geral - soma das outras categorias\n",
        "df_homens['Mortos'] = df_homens['Mortos'] - df_homens['Soma_Outras']\n",
        "\n",
        "# Ajusta a categoria para Homens\n",
        "df_homens['Categoria'] = 'Homens'\n",
        "\n",
        "# Remove coluna auxiliar\n",
        "df_homens = df_homens.drop(columns=['Soma_Outras'])\n",
        "\n",
        "# Junta tudo, excluindo Geral\n",
        "df_final = pd.concat([df_outras, df_homens], ignore_index=True)\n",
        "\n",
        "# Ordena se quiser\n",
        "df_final = df_final.sort_values(by=grupo_chaves + ['Categoria']).reset_index(drop=True)\n",
        "\n",
        "# Salva ou continua o processamento\n",
        "df_final.to_csv('dados.csv', index=False)\n"
      ],
      "metadata": {
        "id": "n4avNxiEjeHm"
      },
      "execution_count": 71,
      "outputs": []
    },
    {
      "cell_type": "code",
      "source": [
        "\n"
      ],
      "metadata": {
        "id": "WtbBlBidkOFt"
      },
      "execution_count": null,
      "outputs": []
    },
    {
      "cell_type": "code",
      "source": [
        "df_long.to_csv('dados.csv')"
      ],
      "metadata": {
        "id": "B-R8R_B9UAAS"
      },
      "execution_count": 66,
      "outputs": []
    },
    {
      "cell_type": "code",
      "source": [
        "print(df_long.columns)"
      ],
      "metadata": {
        "id": "wQ9YxfBsnf-I",
        "collapsed": true,
        "colab": {
          "base_uri": "https://localhost:8080/"
        },
        "outputId": "0c8b74a7-85cf-4326-c9a4-b939b4931283"
      },
      "execution_count": 67,
      "outputs": [
        {
          "output_type": "stream",
          "name": "stdout",
          "text": [
            "Index(['report_date', 'report_source', 'report_period', 'killed', 'injured_cum', 'injured', 'massacres_cum', 'killed_recovered', 'killed_truce_new', 'killed_succumbed', 'killed_committee', 'dias_desde_inicio', 'Categoria', 'Mortos'], dtype='object')\n"
          ]
        }
      ]
    }
  ]
}