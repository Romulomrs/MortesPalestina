{
  "nbformat": 4,
  "nbformat_minor": 0,
  "metadata": {
    "colab": {
      "provenance": [],
      "include_colab_link": true
    },
    "kernelspec": {
      "name": "python3",
      "display_name": "Python 3"
    },
    "language_info": {
      "name": "python"
    }
  },
  "cells": [
    {
      "cell_type": "markdown",
      "metadata": {
        "id": "view-in-github",
        "colab_type": "text"
      },
      "source": [
        "<a href=\"https://colab.research.google.com/github/Romulomrs/MortesPalestina/blob/main/CleaningData.ipynb\" target=\"_parent\"><img src=\"https://colab.research.google.com/assets/colab-badge.svg\" alt=\"Open In Colab\"/></a>"
      ]
    },
    {
      "cell_type": "code",
      "execution_count": 23,
      "metadata": {
        "id": "eEw_csI4ynzF"
      },
      "outputs": [],
      "source": [
        "import pandas as pd\n",
        "import numpy as np"
      ]
    },
    {
      "cell_type": "code",
      "source": [
        "df = pd.read_json('dados.json')"
      ],
      "metadata": {
        "id": "k4no9MD4yzGh"
      },
      "execution_count": 24,
      "outputs": []
    },
    {
      "cell_type": "code",
      "source": [
        "pd.set_option('display.width', 1000)  # Aumenta o limite horizontal\n",
        "pd.set_option('display.max_columns', None)  # Permite mostrar todas as colunas"
      ],
      "metadata": {
        "id": "KR08K5dE0a7p"
      },
      "execution_count": 25,
      "outputs": []
    },
    {
      "cell_type": "code",
      "source": [
        "# Preenche valores ausentes somente nas colunas numéricas\n",
        "num_cols = df.select_dtypes(include=[np.number]).columns\n",
        "df[num_cols] = df[num_cols].fillna(0)"
      ],
      "metadata": {
        "id": "-78dq0Vqj8N_"
      },
      "execution_count": 26,
      "outputs": []
    },
    {
      "cell_type": "code",
      "source": [
        "df.fillna(0, inplace = True)\n",
        "df = df.drop(['ext_massacres_cum','ext_killed','ext_killed_cum',\n",
        "                 'ext_killed_children_cum','ext_killed_women_cum','ext_injured','ext_injured_cum','ext_civdef_killed_cum',\n",
        "                 'ext_med_killed_cum','ext_press_killed_cum',],axis = 1)\n"
      ],
      "metadata": {
        "id": "QguL7maXnSQT"
      },
      "execution_count": 27,
      "outputs": []
    },
    {
      "cell_type": "code",
      "source": [
        "# Converte a data para datetime\n",
        "df['report_date'] = pd.to_datetime(df['report_date'])"
      ],
      "metadata": {
        "id": "57lyDIBaj26G"
      },
      "execution_count": 28,
      "outputs": []
    },
    {
      "cell_type": "code",
      "source": [
        "# Cria coluna: dias desde o início da guerra\n",
        "inicio_guerra = pd.to_datetime('2023-10-06')\n",
        "df['dias_desde_inicio'] = (df['report_date'] - inicio_guerra).dt.days"
      ],
      "metadata": {
        "id": "u5uiNv9-nKB5"
      },
      "execution_count": 29,
      "outputs": []
    },
    {
      "cell_type": "code",
      "source": [
        "colunas = [\n",
        "    'killed_cum',\n",
        "    'injured_cum',\n",
        "    'med_killed_cum',\n",
        "    'press_killed_cum',\n",
        "    'killed_children_cum',\n",
        "    'killed_women_cum',\n",
        "    'civdef_killed_cum'\n",
        "\n",
        "]\n",
        "\n",
        "# Substitui 0 por NA e faz forward fill em cada coluna\n",
        "df[colunas] = df[colunas].replace(0, pd.NA).ffill()"
      ],
      "metadata": {
        "id": "YYajd-BTnSVP"
      },
      "execution_count": 45,
      "outputs": []
    },
    {
      "cell_type": "code",
      "source": [
        "colunas_categorias = [\n",
        "    'Killed_cum',\n",
        "    'killed_women_cum',\n",
        "    'med_killed_cum',\n",
        "    'press_killed_cum',\n",
        "    'killed_children_cum',\n",
        "    'civdef_killed_cum',\n",
        "    'injured_cum',\n",
        "]"
      ],
      "metadata": {
        "id": "erTaMwwaXQbL"
      },
      "execution_count": 46,
      "outputs": []
    },
    {
      "cell_type": "code",
      "source": [
        "# Filtra apenas os dados a partir de 7 de outubro de 2023\n",
        "df = df[df['report_date'] >= inicio_guerra]\n"
      ],
      "metadata": {
        "id": "AFyxo_hDnVUv"
      },
      "execution_count": 47,
      "outputs": []
    },
    {
      "cell_type": "code",
      "source": [
        "df_renomeado = df.rename(columns={\n",
        "    'killed_cum': 'Geral',\n",
        "    'killed_women_cum': 'Mulheres',\n",
        "    'med_killed_cum': 'Médicos',\n",
        "    'press_killed_cum': 'Imprensa',\n",
        "    'killed_children_cum': 'Crianças',\n",
        "    'civdef_killed_cum': 'DefesaCivil'\n",
        "})"
      ],
      "metadata": {
        "id": "uYJYfwtAk6o7"
      },
      "execution_count": 48,
      "outputs": []
    },
    {
      "cell_type": "code",
      "source": [
        "colunas_a_derreter = ['Geral', 'Mulheres', 'Médicos', 'Imprensa', 'Crianças', 'DefesaCivil']\n",
        "id_vars = [col for col in df_renomeado.columns if col not in colunas_a_derreter]\n",
        "\n",
        "# Agora sim, faz o melt mantendo tudo\n",
        "df_long = pd.melt(\n",
        "    df_renomeado,\n",
        "    id_vars=id_vars,\n",
        "    value_vars=colunas_a_derreter,\n",
        "    var_name='Categoria',\n",
        "    value_name='Mortos'\n",
        ")"
      ],
      "metadata": {
        "id": "sL9hv1l8lDax"
      },
      "execution_count": 49,
      "outputs": []
    },
    {
      "cell_type": "code",
      "source": [
        "df_long.to_csv('dados.csv')"
      ],
      "metadata": {
        "id": "B-R8R_B9UAAS"
      },
      "execution_count": 50,
      "outputs": []
    },
    {
      "cell_type": "code",
      "source": [
        "print(df_long.columns)"
      ],
      "metadata": {
        "id": "wQ9YxfBsnf-I",
        "collapsed": true
      },
      "execution_count": null,
      "outputs": []
    }
  ]
}